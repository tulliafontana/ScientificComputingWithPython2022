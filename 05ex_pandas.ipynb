{
 "cells": [
  {
   "cell_type": "markdown",
   "id": "342f713f",
   "metadata": {},
   "source": [
    "Pandas analysis"
   ]
  },
  {
   "cell_type": "markdown",
   "id": "84497103",
   "metadata": {},
   "source": [
    "1. Create a Pandas DataFrame reading N rows of the data/data_000637.txt dataset. Choose N to be smaller than or equal to the maximum number of rows and larger that 10k (check the documentation)."
   ]
  },
  {
   "cell_type": "code",
   "execution_count": 23,
   "id": "d23e397d",
   "metadata": {},
   "outputs": [
    {
     "data": {
      "text/html": [
       "<div>\n",
       "<style scoped>\n",
       "    .dataframe tbody tr th:only-of-type {\n",
       "        vertical-align: middle;\n",
       "    }\n",
       "\n",
       "    .dataframe tbody tr th {\n",
       "        vertical-align: top;\n",
       "    }\n",
       "\n",
       "    .dataframe thead th {\n",
       "        text-align: right;\n",
       "    }\n",
       "</style>\n",
       "<table border=\"1\" class=\"dataframe\">\n",
       "  <thead>\n",
       "    <tr style=\"text-align: right;\">\n",
       "      <th></th>\n",
       "      <th>HEAD</th>\n",
       "      <th>FPGA</th>\n",
       "      <th>TDC_CHANNEL</th>\n",
       "      <th>ORBIT_CNT</th>\n",
       "      <th>BX_COUNTER</th>\n",
       "      <th>TDC_MEAS</th>\n",
       "    </tr>\n",
       "  </thead>\n",
       "  <tbody>\n",
       "    <tr>\n",
       "      <th>0</th>\n",
       "      <td>1</td>\n",
       "      <td>0</td>\n",
       "      <td>123</td>\n",
       "      <td>3869200167</td>\n",
       "      <td>2374</td>\n",
       "      <td>26</td>\n",
       "    </tr>\n",
       "    <tr>\n",
       "      <th>1</th>\n",
       "      <td>1</td>\n",
       "      <td>0</td>\n",
       "      <td>124</td>\n",
       "      <td>3869200167</td>\n",
       "      <td>2374</td>\n",
       "      <td>27</td>\n",
       "    </tr>\n",
       "    <tr>\n",
       "      <th>2</th>\n",
       "      <td>1</td>\n",
       "      <td>0</td>\n",
       "      <td>63</td>\n",
       "      <td>3869200167</td>\n",
       "      <td>2553</td>\n",
       "      <td>28</td>\n",
       "    </tr>\n",
       "    <tr>\n",
       "      <th>3</th>\n",
       "      <td>1</td>\n",
       "      <td>0</td>\n",
       "      <td>64</td>\n",
       "      <td>3869200167</td>\n",
       "      <td>2558</td>\n",
       "      <td>19</td>\n",
       "    </tr>\n",
       "    <tr>\n",
       "      <th>4</th>\n",
       "      <td>1</td>\n",
       "      <td>0</td>\n",
       "      <td>64</td>\n",
       "      <td>3869200167</td>\n",
       "      <td>2760</td>\n",
       "      <td>25</td>\n",
       "    </tr>\n",
       "    <tr>\n",
       "      <th>...</th>\n",
       "      <td>...</td>\n",
       "      <td>...</td>\n",
       "      <td>...</td>\n",
       "      <td>...</td>\n",
       "      <td>...</td>\n",
       "      <td>...</td>\n",
       "    </tr>\n",
       "    <tr>\n",
       "      <th>9995</th>\n",
       "      <td>1</td>\n",
       "      <td>0</td>\n",
       "      <td>61</td>\n",
       "      <td>3869200267</td>\n",
       "      <td>696</td>\n",
       "      <td>11</td>\n",
       "    </tr>\n",
       "    <tr>\n",
       "      <th>9996</th>\n",
       "      <td>1</td>\n",
       "      <td>0</td>\n",
       "      <td>60</td>\n",
       "      <td>3869200267</td>\n",
       "      <td>701</td>\n",
       "      <td>5</td>\n",
       "    </tr>\n",
       "    <tr>\n",
       "      <th>9997</th>\n",
       "      <td>1</td>\n",
       "      <td>0</td>\n",
       "      <td>59</td>\n",
       "      <td>3869200267</td>\n",
       "      <td>707</td>\n",
       "      <td>23</td>\n",
       "    </tr>\n",
       "    <tr>\n",
       "      <th>9998</th>\n",
       "      <td>1</td>\n",
       "      <td>0</td>\n",
       "      <td>63</td>\n",
       "      <td>3869200267</td>\n",
       "      <td>706</td>\n",
       "      <td>15</td>\n",
       "    </tr>\n",
       "    <tr>\n",
       "      <th>9999</th>\n",
       "      <td>1</td>\n",
       "      <td>0</td>\n",
       "      <td>49</td>\n",
       "      <td>3869200267</td>\n",
       "      <td>777</td>\n",
       "      <td>13</td>\n",
       "    </tr>\n",
       "  </tbody>\n",
       "</table>\n",
       "<p>10000 rows × 6 columns</p>\n",
       "</div>"
      ],
      "text/plain": [
       "      HEAD  FPGA  TDC_CHANNEL   ORBIT_CNT  BX_COUNTER  TDC_MEAS\n",
       "0        1     0          123  3869200167        2374        26\n",
       "1        1     0          124  3869200167        2374        27\n",
       "2        1     0           63  3869200167        2553        28\n",
       "3        1     0           64  3869200167        2558        19\n",
       "4        1     0           64  3869200167        2760        25\n",
       "...    ...   ...          ...         ...         ...       ...\n",
       "9995     1     0           61  3869200267         696        11\n",
       "9996     1     0           60  3869200267         701         5\n",
       "9997     1     0           59  3869200267         707        23\n",
       "9998     1     0           63  3869200267         706        15\n",
       "9999     1     0           49  3869200267         777        13\n",
       "\n",
       "[10000 rows x 6 columns]"
      ]
     },
     "execution_count": 23,
     "metadata": {},
     "output_type": "execute_result"
    }
   ],
   "source": [
    "import pandas as pd\n",
    "import numpy as np\n",
    "\n",
    "file_name = \"./data/data_000637.txt\"\n",
    "data = pd.read_csv(file_name)\n",
    "data_rows = data.shape[0]\n",
    "N = 10000 # np.random.randint(10000, data_rows)\n",
    "data_N = pd.read_csv(file_name, nrows=(N))\n",
    "data_N\n",
    "\n",
    "# 1 done"
   ]
  },
  {
   "cell_type": "markdown",
   "id": "e0554e37",
   "metadata": {},
   "source": [
    "2. Estimate the number of BX in a ORBIT (the value x).\n",
    "\n",
    "Hint: check when the BX counter reaches the maximum value before being reset to 0."
   ]
  },
  {
   "cell_type": "code",
   "execution_count": 24,
   "id": "8783baaa",
   "metadata": {
    "scrolled": true
   },
   "outputs": [
    {
     "name": "stdout",
     "output_type": "stream",
     "text": [
      "3563\n"
     ]
    }
   ],
   "source": [
    "x = data.loc[:,'BX_COUNTER'].max()\n",
    "print(x)\n",
    "# 2 done"
   ]
  },
  {
   "cell_type": "markdown",
   "id": "9e656315",
   "metadata": {},
   "source": [
    "3. Create a new column with the absolute time in ns (as a combination of the other three columns with timing information) since the beginning of the data acquisition, and convert the new column to a Time Series."
   ]
  },
  {
   "cell_type": "code",
   "execution_count": 25,
   "id": "8dbd6df3",
   "metadata": {},
   "outputs": [
    {
     "name": "stdout",
     "output_type": "stream",
     "text": [
      "         HEAD  FPGA  TDC_CHANNEL   ORBIT_CNT  BX_COUNTER  TDC_MEAS  \\\n",
      "0           1     0          123  3869200167        2374        26   \n",
      "1           1     0          124  3869200167        2374        27   \n",
      "2           1     0           63  3869200167        2553        28   \n",
      "3           1     0           64  3869200167        2558        19   \n",
      "4           1     0           64  3869200167        2760        25   \n",
      "...       ...   ...          ...         ...         ...       ...   \n",
      "1310715     1     0           62  3869211171         762        14   \n",
      "1310716     1     1            4  3869211171         763        11   \n",
      "1310717     1     0           64  3869211171         764         0   \n",
      "1310718     1     0          139  3869211171         769         0   \n",
      "1310719     1     0           61  3869211171         762        18   \n",
      "\n",
      "         ABSOLUTE_TIME  \n",
      "0         3.446490e+14  \n",
      "1         3.446490e+14  \n",
      "2         3.446490e+14  \n",
      "3         3.446490e+14  \n",
      "4         3.446490e+14  \n",
      "...                ...  \n",
      "1310715   3.446500e+14  \n",
      "1310716   3.446500e+14  \n",
      "1310717   3.446500e+14  \n",
      "1310718   3.446500e+14  \n",
      "1310719   3.446500e+14  \n",
      "\n",
      "[1310720 rows x 7 columns]\n",
      "The corresponding time series is: \n",
      "0         1970-01-04 23:44:09.004934896\n",
      "1         1970-01-04 23:44:09.004934897\n",
      "2         1970-01-04 23:44:09.004939373\n",
      "3         1970-01-04 23:44:09.004939490\n",
      "4         1970-01-04 23:44:09.004944545\n",
      "                       ...             \n",
      "1310715   1970-01-04 23:44:09.985075886\n",
      "1310716   1970-01-04 23:44:09.985075909\n",
      "1310717   1970-01-04 23:44:09.985075925\n",
      "1310718   1970-01-04 23:44:09.985076050\n",
      "1310719   1970-01-04 23:44:09.985075890\n",
      "Length: 1310720, dtype: datetime64[ns]\n"
     ]
    }
   ],
   "source": [
    "from datetime import datetime as dt\n",
    "\n",
    "# compute the absolute time in nanoseconds\n",
    "sum_time = data['ORBIT_CNT']*x*25 + data['BX_COUNTER']*25 + data['TDC_MEAS']*25/30\n",
    "\n",
    "# create the new column and concatenate to data and print it\n",
    "sum_time_data = pd.DataFrame(sum_time, columns=['ABSOLUTE_TIME'])\n",
    "data_new =[data, sum_time_data]\n",
    "print(pd.concat(data_new, axis=1))\n",
    "\n",
    "# convert the new column to a timeseries\n",
    "abs_time = pd.to_datetime(sum_time, unit = 'ns')\n",
    "print(\"The corresponding time series is: \")\n",
    "print(abs_time)\n",
    "\n",
    "# 3 done"
   ]
  },
  {
   "cell_type": "markdown",
   "id": "455bb9cc",
   "metadata": {},
   "source": [
    "4. Find out the duration of the data taking in hours, minutes and seconds, by using the features of the Time Series. Perform this check reading the whole dataset."
   ]
  },
  {
   "cell_type": "code",
   "execution_count": 26,
   "id": "a2a88249",
   "metadata": {},
   "outputs": [
    {
     "name": "stdout",
     "output_type": "stream",
     "text": [
      "0         3 days 23:44:09.004934896\n",
      "1         3 days 23:44:09.004934897\n",
      "2         3 days 23:44:09.004939373\n",
      "3         3 days 23:44:09.004939490\n",
      "4         3 days 23:44:09.004944545\n",
      "                     ...           \n",
      "1310715   3 days 23:44:09.985075886\n",
      "1310716   3 days 23:44:09.985075909\n",
      "1310717   3 days 23:44:09.985075925\n",
      "1310718   3 days 23:44:09.985076050\n",
      "1310719   3 days 23:44:09.985075890\n",
      "Length: 1310720, dtype: timedelta64[ns]\n"
     ]
    }
   ],
   "source": [
    "d_time = pd.to_timedelta(sum_time) # time hous, minutes and seconds\n",
    "print(d_time)\n",
    "data['ABSOLUTE_TIME'] = d_time\n",
    "\n",
    "# 4 done (sure?)"
   ]
  },
  {
   "cell_type": "markdown",
   "id": "64040904",
   "metadata": {},
   "source": [
    "5. Use the .groupby() method to find out the noisy channels, i.e. the TDC channels with most counts (print to screen the top 3 and the corresponding counts)"
   ]
  },
  {
   "cell_type": "code",
   "execution_count": 27,
   "id": "6b7f6ebd",
   "metadata": {},
   "outputs": [
    {
     "name": "stdout",
     "output_type": "stream",
     "text": [
      "TDC_CHANNEL\n",
      "1       29653\n",
      "2       34271\n",
      "3       23463\n",
      "4       28755\n",
      "5       16435\n",
      "        ...  \n",
      "129        37\n",
      "130        71\n",
      "137        68\n",
      "138        70\n",
      "139    108059\n",
      "Name: HEAD, Length: 133, dtype: int64\n",
      "TDC_CHANNEL\n",
      "139    108059\n",
      "64      66020\n",
      "63      64642\n",
      "Name: HEAD, dtype: int64\n"
     ]
    }
   ],
   "source": [
    "occurrences = data.groupby(\"TDC_CHANNEL\").count()[\"HEAD\"]\n",
    "noisy_ch=occurrences.sort_values(ascending=False) # sort values\n",
    "print(occurrences)\n",
    "print(noisy_ch[0:3]) # print the three noisiest\n",
    "\n",
    "# 5 done"
   ]
  },
  {
   "cell_type": "markdown",
   "id": "59a4cc1d",
   "metadata": {},
   "source": [
    "6. Count the number of non-empty orbits (i.e. the number of orbits with at least one hit)."
   ]
  },
  {
   "cell_type": "code",
   "execution_count": 28,
   "id": "1f26ccd9",
   "metadata": {},
   "outputs": [
    {
     "name": "stdout",
     "output_type": "stream",
     "text": [
      "The number of non-empty orbits is 11001\n"
     ]
    }
   ],
   "source": [
    "non_empty_orbits = data.groupby('ORBIT_CNT').count()\n",
    "orbits_number = len(non_empty_orbits)\n",
    "print(\"The number of non-empty orbits is \" + str(orbits_number))\n",
    "\n",
    "# 6 done"
   ]
  },
  {
   "cell_type": "markdown",
   "id": "6e78a3a4",
   "metadata": {},
   "source": [
    "7. Count the number of unique orbits with at least one measurement from TDC_CHANNEL=139."
   ]
  },
  {
   "cell_type": "code",
   "execution_count": 29,
   "id": "7bb3d363",
   "metadata": {},
   "outputs": [
    {
     "name": "stdout",
     "output_type": "stream",
     "text": [
      "We have 10976 unique orbits with at least one measurements with TDC_CHANNEL = 139.\n"
     ]
    }
   ],
   "source": [
    "unique_orbits_139 = np.unique(data[data['TDC_CHANNEL'] == 139]['ORBIT_CNT'])\n",
    "print(\"We have \" + str(len(unique_orbits_139)) + \" unique orbits with at least one measurements with TDC_CHANNEL = 139.\")\n",
    "\n",
    "# 7 done"
   ]
  },
  {
   "cell_type": "markdown",
   "id": "4ecb7040",
   "metadata": {},
   "source": [
    "8. Create two Series (one for each FPGA) that have the TDC channel as index, and the number of counts for the corresponding TDC channel as values."
   ]
  },
  {
   "cell_type": "code",
   "execution_count": 30,
   "id": "a75da888",
   "metadata": {},
   "outputs": [
    {
     "name": "stdout",
     "output_type": "stream",
     "text": [
      "Series with FPGA == 0 and TDC channel as index:\n",
      "139    75617\n",
      "64     64581\n",
      "63     63724\n",
      "61     48699\n",
      "62     48275\n",
      "       ...  \n",
      "130       33\n",
      "137       32\n",
      "30         4\n",
      "129        2\n",
      "39         1\n",
      "Name: TDC_CHANNEL, Length: 124, dtype: int64\n",
      "\n",
      "Series with FPGA == 1 and TDC channel as index:\n",
      "2      32669\n",
      "139    32442\n",
      "1      28438\n",
      "4      26403\n",
      "3      21970\n",
      "       ...  \n",
      "9         80\n",
      "130       38\n",
      "138       36\n",
      "137       36\n",
      "129       35\n",
      "Name: TDC_CHANNEL, Length: 132, dtype: int64\n"
     ]
    }
   ],
   "source": [
    "FPGA_0 = pd.Series(data.loc[data['FPGA']==0, 'TDC_CHANNEL'].value_counts())\n",
    "FPGA_1 = pd.Series(data.loc[data['FPGA']==1,'TDC_CHANNEL'].value_counts())\n",
    "\n",
    "print(\"Series with FPGA == 0 and TDC channel as index:\")\n",
    "print(FPGA_0)\n",
    "\n",
    "print(\"\\nSeries with FPGA == 1 and TDC channel as index:\")\n",
    "print(FPGA_1)\n",
    "# 8 done"
   ]
  },
  {
   "cell_type": "markdown",
   "id": "ed80528e",
   "metadata": {},
   "source": [
    "9. Optional: Create two histograms (one for each FPGA) that show the number of counts for each TDC channel."
   ]
  },
  {
   "cell_type": "code",
   "execution_count": 31,
   "id": "06adb0f1",
   "metadata": {},
   "outputs": [
    {
     "data": {
      "text/plain": [
       "Text(0, 0.5, 'Number of counts')"
      ]
     },
     "execution_count": 31,
     "metadata": {},
     "output_type": "execute_result"
    },
    {
     "data": {
      "image/png": "[encoded data removed]",
      "text/plain": [
       "<Figure size 640x480 with 1 Axes>"
      ]
     },
     "metadata": {},
     "output_type": "display_data"
    },
    {
     "data": {
      "image/png": "[encoded data removed]",
      "text/plain": [
       "<Figure size 640x480 with 1 Axes>"
      ]
     },
     "metadata": {},
     "output_type": "display_data"
    }
   ],
   "source": [
    "import matplotlib.pyplot as plt\n",
    "\n",
    "TDC_channel_1 = data[data[\"FPGA\"] == 0][\"TDC_CHANNEL\"]\n",
    "plt.figure(0)\n",
    "plt.hist(TDC_channel_1, bins = 140)\n",
    "plt.xlabel(\"TDC channels_1\")\n",
    "plt.ylabel(\"Number of counts\")\n",
    "\n",
    "TDC_channel_2 = data[data[\"FPGA\"] == 1][\"TDC_CHANNEL\"]\n",
    "plt.figure(1)\n",
    "plt.hist(TDC_channel_2, bins = 140)\n",
    "plt.xlabel(\"TDC_channels_2\")\n",
    "plt.ylabel(\"Number of counts\")\n",
    "# 9 done"
   ]
  }
 ],
 "metadata": {
  "kernelspec": {
   "display_name": "Python 3 (ipykernel)",
   "language": "python",
   "name": "python3"
  },
  "language_info": {
   "codemirror_mode": {
    "name": "ipython",
    "version": 3
   },
   "file_extension": ".py",
   "mimetype": "text/x-python",
   "name": "python",
   "nbconvert_exporter": "python",
   "pygments_lexer": "ipython3",
   "version": "3.9.13"
  }
 },
 "nbformat": 4,
 "nbformat_minor": 5
}

{
 "cells": [
  {
   "cell_type": "markdown",
   "metadata": {},
   "source": [
    "1\\. **Reductions**\n",
    "\n",
    "Find the total mean, and the mean for each row and column of the following matrix:\n",
    "\n",
    "```python\n",
    "m = np.arange(12).reshape((3,4))\n",
    "```"
   ]
  },
  {
   "cell_type": "code",
   "execution_count": 9,
   "metadata": {},
   "outputs": [
    {
     "name": "stdout",
     "output_type": "stream",
     "text": [
      "This is the matrix: \n",
      "[[ 0  1  2  3]\n",
      " [ 4  5  6  7]\n",
      " [ 8  9 10 11]]\n",
      "\n",
      "The mean of the matrix is 5.5\n",
      "\n",
      "The mean of the 1-th row is 1.5\n",
      "The mean of the 2-th row is 5.5\n",
      "The mean of the 3-th row is 9.5\n",
      "\n",
      "\n",
      "The mean of the 1-th column is 4.0\n",
      "The mean of the 2-th column is 5.0\n",
      "The mean of the 3-th column is 6.0\n",
      "The mean of the 4-th column is 7.0\n"
     ]
    }
   ],
   "source": [
    "import numpy as np\n",
    "import math\n",
    "\n",
    "m = np.arange(12).reshape((3,4))\n",
    "\n",
    "m_mean = np.mean(m)\n",
    "\n",
    "print(\"This is the matrix: \\n\" + str(m) + \"\\n\\nThe mean of the matrix is \" + str(m_mean) + \"\\n\")\n",
    "\n",
    "for i in range(0,len(m)):\n",
    "    row_mean = np.mean(m[i][:])\n",
    "    print(\"The mean of the \" + str(i+1) + \"-th row is \" + str(row_mean))\n",
    "    \n",
    "print(\"\\n\")\n",
    "\n",
    "for s in range(0, m.shape[1]):\n",
    "    column_mean = np.mean(m[:,s])\n",
    "    print(\"The mean of the \" + str(s+1) + \"-th column is \" + str(column_mean))"
   ]
  },
  {
   "cell_type": "markdown",
   "metadata": {},
   "source": [
    "2\\. **Outer product**\n",
    "\n",
    "Find the outer product of the following vectors:\n",
    "\n",
    "```python\n",
    "u = np.array([1, 3, 5, 7])\n",
    "v = np.array([2, 4, 6, 8])\n",
    "```\n",
    "\n",
    "Use different methods to do this:\n",
    "\n",
    "   1. Using the function `outer` in numpy\n",
    "   2. Using a nested `for` loop or a list comprehension\n",
    "   3. Using numpy broadcasting operations"
   ]
  },
  {
   "cell_type": "code",
   "execution_count": 10,
   "metadata": {},
   "outputs": [
    {
     "name": "stdout",
     "output_type": "stream",
     "text": [
      "First  method:\n",
      "[[ 2  4  6  8]\n",
      " [ 6 12 18 24]\n",
      " [10 20 30 40]\n",
      " [14 28 42 56]]\n",
      "\n",
      "Second method:\n",
      "[[ 2  4  6  8]\n",
      " [ 6 12 18 24]\n",
      " [10 20 30 40]\n",
      " [14 28 42 56]]\n",
      "\n",
      "Third method:\n",
      "[[ 2  4  6  8]\n",
      " [ 6 12 18 24]\n",
      " [10 20 30 40]\n",
      " [14 28 42 56]]\n"
     ]
    }
   ],
   "source": [
    "u = np.array([1, 3, 5, 7])\n",
    "v = np.array([2, 4, 6, 8])\n",
    "\n",
    "print(\"First  method:\")\n",
    "first = np.outer(u,v)\n",
    "print(first)\n",
    "\n",
    "print(\"\\nSecond method:\")\n",
    "second = [u[i]*v[j] for i in range(0, len(u)) for j in range(0, len(v))]\n",
    "second = np.reshape(second, (4,4))\n",
    "print(second)\n",
    "\n",
    "print(\"\\nThird method:\")\n",
    "third = u.reshape(len(u),1)*v\n",
    "print(third)"
   ]
  },
  {
   "cell_type": "markdown",
   "metadata": {},
   "source": [
    "3\\. **Matrix masking**\n",
    "\n",
    "Create a 10 by 6 matrix of float random numbers, distributed between 0 and 3 according to a flat distribution.\n",
    "\n",
    "After creating the matrix, set all entries $< 0.3$ to zero using a mask."
   ]
  },
  {
   "cell_type": "code",
   "execution_count": 11,
   "metadata": {},
   "outputs": [
    {
     "name": "stdout",
     "output_type": "stream",
     "text": [
      "The original matrix is \n",
      "[[2.08940756 0.858418   0.68055436 1.65394431 2.15840691 1.26931938]\n",
      " [2.9422926  2.05448922 1.4427957  1.17635255 1.02953405 2.18714912]\n",
      " [1.31571673 0.17903369 1.19413277 2.21398622 0.54747519 0.52635527]\n",
      " [1.59465412 1.59548276 1.90320288 2.54829538 2.17336597 1.83307053]\n",
      " [2.16733015 0.96887674 1.08536597 0.68478969 0.88114214 1.89292837]\n",
      " [0.27631482 1.30110352 1.29258829 1.48105529 1.27749087 0.93678367]\n",
      " [1.27905392 2.68016749 2.83248005 1.50551003 1.87185886 0.34685519]\n",
      " [0.95185645 1.24447864 2.59892747 0.7513661  1.44910279 2.95667936]\n",
      " [1.55845536 1.83868358 0.361886   2.4790224  1.80918039 1.63520402]\n",
      " [1.0282915  0.91236237 1.25106663 2.0439023  2.62637053 1.53126701]]\n",
      "The filtered matrix is \n",
      "[[2.08940756 0.858418   0.68055436 1.65394431 2.15840691 1.26931938]\n",
      " [2.9422926  2.05448922 1.4427957  1.17635255 1.02953405 2.18714912]\n",
      " [1.31571673 0.         1.19413277 2.21398622 0.54747519 0.52635527]\n",
      " [1.59465412 1.59548276 1.90320288 2.54829538 2.17336597 1.83307053]\n",
      " [2.16733015 0.96887674 1.08536597 0.68478969 0.88114214 1.89292837]\n",
      " [0.         1.30110352 1.29258829 1.48105529 1.27749087 0.93678367]\n",
      " [1.27905392 2.68016749 2.83248005 1.50551003 1.87185886 0.34685519]\n",
      " [0.95185645 1.24447864 2.59892747 0.7513661  1.44910279 2.95667936]\n",
      " [1.55845536 1.83868358 0.361886   2.4790224  1.80918039 1.63520402]\n",
      " [1.0282915  0.91236237 1.25106663 2.0439023  2.62637053 1.53126701]]\n"
     ]
    }
   ],
   "source": [
    "np.random.seed(123)\n",
    "\n",
    "matrix = 3*np.random.rand(10,6)\n",
    "print(\"The original matrix is \\n\" + str(matrix))\n",
    "\n",
    "matrix[matrix < 0.3] = 0\n",
    "print(\"The filtered matrix is \\n\" + str(matrix))"
   ]
  },
  {
   "cell_type": "markdown",
   "metadata": {},
   "source": [
    "4\\. **Trigonometric functions**\n",
    "\n",
    "Use `np.linspace` to create an array of 100 numbers between $0$ and $2\\pi$ (inclusive).\n",
    "\n",
    "  * Extract every 10th element using the slice notation\n",
    "  * Reverse the array using the slice notation\n",
    "  * Extract elements where the absolute difference between the `sin` and `cos` functions evaluated for that element is $< 0.1$\n",
    "  * **Optional**: make a plot showing the sin and cos functions and indicate where they are close"
   ]
  },
  {
   "cell_type": "code",
   "execution_count": 12,
   "metadata": {},
   "outputs": [
    {
     "data": {
      "image/png": "[encoded data removed]",
      "text/plain": [
       "<Figure size 640x480 with 1 Axes>"
      ]
     },
     "metadata": {},
     "output_type": "display_data"
    }
   ],
   "source": [
    "array = np.linspace(0, 2*np.pi, 100)\n",
    "#print(array)\n",
    "\n",
    "extract = array[0:100:10]\n",
    "#print(extract)\n",
    "#print(\"\\n\")\n",
    "\n",
    "reverse = array[::-1]\n",
    "#print(reverse)\n",
    "#print(\"\\n\")\n",
    "\n",
    "sin_cos = array[np.abs(np.sin(array)-np.cos(array))<0.1]\n",
    "#print(sin_cos)\n",
    "\n",
    "sin_f = np.sin(array)\n",
    "cos_f = np.cos(array)\n",
    "\n",
    "sin_p = np.sin(sin_cos)\n",
    "cos_p = np.cos(sin_cos)\n",
    "\n",
    "plt.plot(array, sin_f)\n",
    "plt.plot(array, cos_f)\n",
    "plt.scatter(sin_cos, sin_p)\n",
    "plt.scatter(sin_cos, cos_p)\n",
    "plt.show()"
   ]
  },
  {
   "cell_type": "markdown",
   "metadata": {},
   "source": [
    "5\\. **Matrices**\n",
    "\n",
    "Create a matrix that shows the 10 by 10 multiplication table.\n",
    "\n",
    " * Find the trace of the matrix\n",
    " * Extract the anti-diagonal matrix (this should be ```array([10, 18, 24, 28, 30, 30, 28, 24, 18, 10])```)\n",
    " * Extract the diagonal offset by 1 upwards (this should be ```array([ 2,  6, 12, 20, 30, 42, 56, 72, 90])```)"
   ]
  },
  {
   "cell_type": "code",
   "execution_count": 13,
   "metadata": {},
   "outputs": [
    {
     "name": "stdout",
     "output_type": "stream",
     "text": [
      "[[  1   2   3   4   5   6   7   8   9  10]\n",
      " [  2   4   6   8  10  12  14  16  18  20]\n",
      " [  3   6   9  12  15  18  21  24  27  30]\n",
      " [  4   8  12  16  20  24  28  32  36  40]\n",
      " [  5  10  15  20  25  30  35  40  45  50]\n",
      " [  6  12  18  24  30  36  42  48  54  60]\n",
      " [  7  14  21  28  35  42  49  56  63  70]\n",
      " [  8  16  24  32  40  48  56  64  72  80]\n",
      " [  9  18  27  36  45  54  63  72  81  90]\n",
      " [ 10  20  30  40  50  60  70  80  90 100]]\n",
      "\n",
      "Matrix trace is 385\n",
      "\n",
      "Antidiagonal is [10, 18, 24, 28, 30, 30, 28, 24, 18, 10]\n",
      "\n",
      "The diagonal offset is [2, 6, 12, 20, 30, 42, 56, 72, 90]\n"
     ]
    }
   ],
   "source": [
    "vector = np.arange(1,11)\n",
    "matrix = np.outer(vector, vector)\n",
    "\n",
    "print(matrix)\n",
    "\n",
    "tr_m = matrix.trace()\n",
    "\n",
    "print(\"\\nMatrix trace is \" + str(tr_m))\n",
    "\n",
    "antidiagonal = [matrix[i,9-i] for i in range(0,10,1)]\n",
    "print(\"\\nAntidiagonal is \" + str(antidiagonal))\n",
    "\n",
    "diagonal_off = [matrix[i+1,i] for i in range(0,9,1)]\n",
    "print(\"\\nThe diagonal offset is \" + str(diagonal_off))\n"
   ]
  },
  {
   "cell_type": "markdown",
   "metadata": {},
   "source": [
    "6\\. **Broadcasting**\n",
    "\n",
    "Use broadcasting to create a grid of distances.\n",
    "\n",
    "Route 66 crosses the following cities in the US: Chicago, Springfield, Saint-Louis, Tulsa, Oklahoma City, Amarillo, Santa Fe, Albuquerque, Flagstaff, Los Angeles.\n",
    "\n",
    "The corresponding positions in miles are: 0, 198, 303, 736, 871, 1175, 1475, 1544, 1913, 2448\n",
    "\n",
    "  * Build a 2D grid of distances among each city along Route 66\n",
    "  * Convert the distances in km"
   ]
  },
  {
   "cell_type": "code",
   "execution_count": 14,
   "metadata": {},
   "outputs": [
    {
     "name": "stdout",
     "output_type": "stream",
     "text": [
      "2D grid of distances in km among each city along Route 66 is: \n",
      "[[   0.    318.78  487.83 1184.96 1402.31 1891.75 2374.75 2485.84 3079.93\n",
      "  3941.28]\n",
      " [ 318.78    0.    169.05  866.18 1083.53 1572.97 2055.97 2167.06 2761.15\n",
      "  3622.5 ]\n",
      " [ 487.83  169.05    0.    697.13  914.48 1403.92 1886.92 1998.01 2592.1\n",
      "  3453.45]\n",
      " [1184.96  866.18  697.13    0.    217.35  706.79 1189.79 1300.88 1894.97\n",
      "  2756.32]\n",
      " [1402.31 1083.53  914.48  217.35    0.    489.44  972.44 1083.53 1677.62\n",
      "  2538.97]\n",
      " [1891.75 1572.97 1403.92  706.79  489.44    0.    483.    594.09 1188.18\n",
      "  2049.53]\n",
      " [2374.75 2055.97 1886.92 1189.79  972.44  483.      0.    111.09  705.18\n",
      "  1566.53]\n",
      " [2485.84 2167.06 1998.01 1300.88 1083.53  594.09  111.09    0.    594.09\n",
      "  1455.44]\n",
      " [3079.93 2761.15 2592.1  1894.97 1677.62 1188.18  705.18  594.09    0.\n",
      "   861.35]\n",
      " [3941.28 3622.5  3453.45 2756.32 2538.97 2049.53 1566.53 1455.44  861.35\n",
      "     0.  ]]\n"
     ]
    }
   ],
   "source": [
    "d = [0, 198, 303, 736, 871, 1175, 1475, 1544, 1913, 2448]\n",
    "d = np.reshape(d, [10,1])\n",
    "d_tr = np.transpose(d)\n",
    "\n",
    "result_broad = np.abs(d-d_tr)\n",
    "km = 1.61\n",
    "result = km*result_broad\n",
    "print(\"2D grid of distances in km among each city along Route 66 is: \")\n",
    "print(result)"
   ]
  },
  {
   "cell_type": "markdown",
   "metadata": {},
   "source": [
    "7\\. **Prime numbers sieve**\n",
    "\n",
    "Compute the prime numbers in the 0-N (start with N=99) range with a sieve (mask).\n",
    "\n",
    "  * Constract a shape (N,) boolean array, which is the mask\n",
    "  * Identify the multiples of each number starting from 2 and set accordingly the corresponding mask element\n",
    "  * Apply the mask to obtain an array of ordered prime numbers\n",
    "  * Check the performances (with `timeit`); how does it scale with N?\n",
    "  * Implement the optimization suggested in the [sieve of Eratosthenes](https://en.wikipedia.org/wiki/Sieve_of_Eratosthenes)"
   ]
  },
  {
   "cell_type": "code",
   "execution_count": 15,
   "metadata": {},
   "outputs": [
    {
     "name": "stdout",
     "output_type": "stream",
     "text": [
      "Prime numbers within N = 100 are:\n",
      "[ 2  3  5  7 11 13 17 19 23 29 31 37 41 43 47 53 59 61 67 71 73 79 83 89\n",
      " 97]\n",
      "Execution time is 0.06689103499229532\n",
      "\n",
      "\n",
      "Prime numbers within N = 500 are:\n",
      "[  2   3   5   7  11  13  17  19  23  29  31  37  41  43  47  53  59  61\n",
      "  67  71  73  79  83  89  97 101 103 107 109 113 127 131 137 139 149 151\n",
      " 157 163 167 173 179 181 191 193 197 199 211 223 227 229 233 239 241 251\n",
      " 257 263 269 271 277 281 283 293 307 311 313 317 331 337 347 349 353 359\n",
      " 367 373 379 383 389 397 401 409 419 421 431 433 439 443 449 457 461 463\n",
      " 467 479 487 491 499]\n",
      "Execution time is 1.1160041440016357\n",
      "\n",
      "\n",
      "Prime numbers within N = 1000 are:\n",
      "[  2   3   5   7  11  13  17  19  23  29  31  37  41  43  47  53  59  61\n",
      "  67  71  73  79  83  89  97 101 103 107 109 113 127 131 137 139 149 151\n",
      " 157 163 167 173 179 181 191 193 197 199 211 223 227 229 233 239 241 251\n",
      " 257 263 269 271 277 281 283 293 307 311 313 317 331 337 347 349 353 359\n",
      " 367 373 379 383 389 397 401 409 419 421 431 433 439 443 449 457 461 463\n",
      " 467 479 487 491 499 503 509 521 523 541 547 557 563 569 571 577 587 593\n",
      " 599 601 607 613 617 619 631 641 643 647 653 659 661 673 677 683 691 701\n",
      " 709 719 727 733 739 743 751 757 761 769 773 787 797 809 811 821 823 827\n",
      " 829 839 853 857 859 863 877 881 883 887 907 911 919 929 937 941 947 953\n",
      " 967 971 977 983 991 997]\n",
      "Execution time is 3.758038514002692\n",
      "\n",
      "\n",
      "Prime numbers within N = 100 computed with Eratosthene algorithm are:\n",
      "[ 2  3  5  7 11 13 17 19 23 29 31 37 41 43 47 53 59 61 67 71 73 79 83 89\n",
      " 97]\n",
      "\n",
      "Execution time with Eratosthene algorithm is 0.0011306420055916533\n"
     ]
    }
   ],
   "source": [
    "import math\n",
    "import timeit\n",
    "\n",
    "def Eratosthene_alg(n):\n",
    "    \n",
    "    a = np.arange(0,n+1)\n",
    "    bool_value = np.full(n+1, True)\n",
    "    bool_value[0] = False\n",
    "    bool_value[1] = False\n",
    "    for i in range(2,int(math.sqrt(n))):\n",
    "        if bool_value[i] == True:\n",
    "            k = i**2\n",
    "            while k < (n+1):\n",
    "                bool_value[k] = False\n",
    "                k = k + i\n",
    "    a = a[bool_value]\n",
    "    print(\"Prime numbers within N = \" + str(N) + \" computed with Eratosthene algorithm are:\\n\" + str(a))\n",
    "    \n",
    "    \n",
    "for i in range(1,4):\n",
    "\tstart_time = timeit.default_timer()\n",
    "\tif i==1:\n",
    "\t\tN = 100\n",
    "\telif i==2:\n",
    "\t\tN = 500\n",
    "\telse:\n",
    "\t\tN = 1000\n",
    "\tarray = np.arange(1,N)\n",
    "\tmask_list = []\n",
    "\tprime_numbers = [False, True] # Prime numbers 2 is added manually\n",
    "\tfor i in range(3,N):\n",
    "\t    mask = [True if ((array[i-1]%j) == 0) else False for j in range(2, i)]\n",
    "\t    sum_mask = np.sum(mask)\n",
    "\t    mask = False if (sum_mask > 0) else True\n",
    "\t    prime_numbers.append(mask)\n",
    "\n",
    "\tprime_numbers_array = np.array(prime_numbers)\n",
    "\tfiltered = array[prime_numbers_array == True]\n",
    "\tend_time = timeit.default_timer()\n",
    "\tprint(\"Prime numbers within N = \" + str(N) + \" are:\\n\" + str(filtered))\n",
    "\tprint(\"Execution time is \" + str(end_time-start_time))\n",
    "\tprint(\"\\n\")\n",
    "\n",
    "# ERATOSTENE METHOD\n",
    "N = 100\n",
    "start_time2 = timeit.default_timer()\n",
    "Eratosthene_alg(N)\n",
    "end_time2 = timeit.default_timer()\n",
    "print(\"\\nExecution time with Eratosthene algorithm is \" + str(end_time2-start_time2))"
   ]
  },
  {
   "cell_type": "markdown",
   "metadata": {},
   "source": [
    "8\\. **Diffusion using random walk**\n",
    "\n",
    "Consider a simple random walk process: at each step in time, a walker jumps right or left (+1 or -1) with equal probability. The goal is to find the typical distance from the origin of many random walkers after a given amount of time.\n",
    "\n",
    "*Hint*: create a 2D array where each row represents a walker, and each column represents a time step.\n",
    "\n",
    "  * Take 1000 walkers and let them walk for 200 steps\n",
    "  * Use `randint` to create a 2D array of size $walkers \\times steps$ with values -1 or 1\n",
    "  * Calculate the walking distances for each walker (e.g. by summing the elements in each row)\n",
    "  * Take the square of the previously-obtained array (element-wise)\n",
    "  * Compute the mean of the squared distances at each step (i.e. the mean along the columns)\n",
    "  * **Optional**: plot the average distances ($\\sqrt(distance^2)$) as a function of time (step)"
   ]
  },
  {
   "cell_type": "code",
   "execution_count": 16,
   "metadata": {},
   "outputs": [
    {
     "name": "stdout",
     "output_type": "stream",
     "text": [
      "The 2D array is [[ 1 -1  1 ...  1 -1  1]\n",
      " [ 1  1  1 ...  1 -1  1]\n",
      " [-1  1 -1 ...  1 -1  1]\n",
      " ...\n",
      " [-1 -1  1 ...  1 -1 -1]\n",
      " [ 1 -1 -1 ... -1  1  1]\n",
      " [ 1  1  1 ... -1  1 -1]]\n",
      "\n",
      "At each step the mean of the distances are: [ 1.          1.42688472  1.7595454   2.01395134  2.27508242  2.49399278\n",
      "  2.68774999  2.86496073  3.02522726  3.18810288  3.30696235  3.38348932\n",
      "  3.50314145  3.6177341   3.77041112  3.93141196  4.08019607  4.18330013\n",
      "  4.3192592   4.4492696   4.55104384  4.66004292  4.76487146  4.85921804\n",
      "  4.87852437  4.97192116  5.02314642  5.16875227  5.30886052  5.47868597\n",
      "  5.61070406  5.74630316  5.86310498  5.93969696  6.03058869  6.10770006\n",
      "  6.20838143  6.32455532  6.34854314  6.43614792  6.5311561   6.54675492\n",
      "  6.57692937  6.61664568  6.64048191  6.69357901  6.7740682   6.86206966\n",
      "  6.98455439  7.14618779  7.21498441  7.30451915  7.32174843  7.4\n",
      "  7.45224798  7.51718032  7.53179925  7.59921049  7.67645752  7.79794845\n",
      "  7.89582168  7.96291404  8.01249025  8.10752737  8.20438907  8.22119213\n",
      "  8.27381411  8.29023522  8.34793388  8.40928059  8.45505766  8.52408353\n",
      "  8.60279025  8.63851839  8.73750536  8.80590711  8.84624214  8.94293017\n",
      "  8.98398575  9.05891826  9.11613953  9.15576321  9.19217058  9.25548486\n",
      "  9.32051501  9.37848602  9.43101267  9.46509377  9.51335903  9.57225156\n",
      "  9.57538511  9.66747123  9.73858306  9.85251237  9.97757486 10.03573615\n",
      " 10.06061628 10.12837598 10.19293873 10.229565   10.23992187 10.25592512\n",
      " 10.34330701 10.38556691 10.47282197 10.52007605 10.5606818  10.61847447\n",
      " 10.69728938 10.72977167 10.82885035 10.87455746 10.97524487 11.01290153\n",
      " 11.07862807 11.070682   11.16136192 11.21677315 11.23565752 11.24135223\n",
      " 11.26339203 11.33895939 11.3694327  11.42961067 11.5082579  11.54781365\n",
      " 11.59931032 11.66996144 11.73098461 11.71836166 11.7742091  11.77098127\n",
      " 11.73950595 11.7369502  11.79287921 11.87568945 11.9455431  12.01515709\n",
      " 12.1035532  12.18769872 12.2927621  12.34325727 12.35572742 12.3953217\n",
      " 12.39612843 12.44845372 12.47172803 12.50407933 12.52293895 12.56264303\n",
      " 12.59428442 12.63787957 12.70401511 12.73059307 12.74645049 12.80687315\n",
      " 12.82902958 12.85021401 12.80343704 12.82996493 12.85488234 12.89837199\n",
      " 12.95160222 13.04269911 13.08800978 13.10557133 13.20424174 13.27237733\n",
      " 13.29781937 13.33071641 13.34346282 13.36832076 13.36562756 13.37235955\n",
      " 13.38387089 13.36577719 13.42594503 13.51058844 13.45451597 13.54931733\n",
      " 13.63114082 13.7322977  13.74889086 13.76735269 13.81361647 13.8442768\n",
      " 13.89100428 13.90338088 13.96395359 13.98241753 14.04677899 14.03880337\n",
      " 14.0074266  14.01270852 14.06356996 14.07551065 14.13562874 14.12628755\n",
      " 14.16502736 14.16262687]\n",
      "\n"
     ]
    },
    {
     "data": {
      "image/png": "[encoded data removed]",
      "text/plain": [
       "<Figure size 640x480 with 1 Axes>"
      ]
     },
     "metadata": {},
     "output_type": "display_data"
    }
   ],
   "source": [
    "import matplotlib.pyplot as plt\n",
    "\n",
    "random_walk = (2*np.random.randint(0,2, size=(1000,200)))-1 # 1000 walkers * 200 steps\n",
    "print(\"The 2D array is \" + str(random_walk) + \"\\n\")\n",
    "\n",
    "d = np.cumsum(random_walk, axis=1)\n",
    "square_d = np.multiply(d,d)\n",
    "d_step = np.sqrt(np.mean(square_d, axis = 0))\n",
    "\n",
    "print(\"At each step the mean of the distances are: \" + str(d_step) + \"\\n\")\n",
    "\n",
    "plt.plot(d_step)\n",
    "plt.ylabel('Mean distance')\n",
    "plt.xlabel('Time')\n",
    "plt.show()"
   ]
  },
  {
   "cell_type": "code",
   "execution_count": null,
   "metadata": {},
   "outputs": [],
   "source": []
  }
 ],
 "metadata": {
  "kernelspec": {
   "display_name": "Python 3 (ipykernel)",
   "language": "python",
   "name": "python3"
  },
  "language_info": {
   "codemirror_mode": {
    "name": "ipython",
    "version": 3
   },
   "file_extension": ".py",
   "mimetype": "text/x-python",
   "name": "python",
   "nbconvert_exporter": "python",
   "pygments_lexer": "ipython3",
   "version": "3.9.13"
  }
 },
 "nbformat": 4,
 "nbformat_minor": 2
}
